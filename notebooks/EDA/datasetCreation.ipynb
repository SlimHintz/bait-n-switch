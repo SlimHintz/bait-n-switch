{
 "cells": [
  {
   "cell_type": "code",
   "execution_count": 159,
   "metadata": {},
   "outputs": [],
   "source": [
    "import json\n",
    "import numpy as np\n",
    "import pandas as pd\n",
    "\n",
    "import os\n",
    "import matplotlib.pyplot as plt\n",
    "\n",
    "%matplotlib inline"
   ]
  },
  {
   "cell_type": "code",
   "execution_count": 160,
   "metadata": {},
   "outputs": [],
   "source": [
    "filepath = '../../src/data/'\n",
    "\n",
    "# Paths to the first data set. Can import immediately using pandas, 2016\n",
    "dataset1_clickbait = '../../src/data/dataset1/clickbait_data'\n",
    "dataset1_nonclickbait = '../../src/data/dataset1/non_clickbait_data'\n",
    "\n",
    "# Paths to the second dataset, 2016\n",
    "dataset2_json_files = '../../src/data/dataset2/webis-clickbait-16/problems/'\n",
    "dataset2_label_csv = '../../src/data/dataset2/webis-clickbait-16/truth/majority.csv'\n",
    "\n",
    "# Paths to the third dataset, 2017\n",
    "\n",
    "dataset3_json = '../../src/data/dataset3/clickbait17-validation-170630/instances.jsonl'\n",
    "dataset3_json_labels = '../../src/data/dataset3/clickbait17-validation-170630/truth.jsonl'"
   ]
  },
  {
   "cell_type": "markdown",
   "metadata": {},
   "source": [
    "### Loading dataset 2\n",
    "\n",
    "This data is also news headlines but this was not labelled using mechanical turks. "
   ]
  },
  {
   "cell_type": "code",
   "execution_count": 161,
   "metadata": {},
   "outputs": [],
   "source": [
    "# Load the clickbait data and make a dataframe\n",
    "df1_clickbait = []\n",
    "with open(dataset1_clickbait) as f:\n",
    "    for line in f:\n",
    "        df1_clickbait.append(line)\n",
    "\n",
    "# Odd numbers are newlines, I'll quickly remove those from the data set\n",
    "df1_clickbait = [(line.rstrip('\\n').replace('\\'', ''), 1) for line in df1_clickbait if line != '\\n' ]\n",
    "index = np.arange(0,len(df1_clickbait))\n",
    "df1_click = pd.DataFrame(df1_clickbait, index=index, columns=['text', 'target'])"
   ]
  },
  {
   "cell_type": "code",
   "execution_count": 162,
   "metadata": {},
   "outputs": [],
   "source": [
    "# Load the non_clickbait data and make dataframe\n",
    "df1_nonclickbait = []\n",
    "with open(dataset1_nonclickbait) as f:\n",
    "    for line in f:\n",
    "        df1_nonclickbait.append(line)\n",
    "# filter out newline characters escape characters and append the target tag\n",
    "df1_nonclickbait = [(line.rstrip(\"\\n\").replace(\"\\\"\", \"\"), 0) for line in df1_nonclickbait if line != '\\n']\n",
    "\n",
    "index = np.arange(0,len(df1_nonclickbait))\n",
    "df1_non = pd.DataFrame(df1_nonclickbait, index=index, columns=['text', 'target'])"
   ]
  },
  {
   "cell_type": "code",
   "execution_count": 163,
   "metadata": {},
   "outputs": [],
   "source": [
    "# Concatenate the dataframes\n",
    "\n",
    "df1 = pd.concat([df1_non, df1_click])\n",
    "df1.to_csv(filepath + \"dataframe1.csv\", index=False)"
   ]
  },
  {
   "cell_type": "markdown",
   "metadata": {},
   "source": [
    "### Loading dataset 2\n",
    "\n",
    "Data set 2 comes from the wibst database from 2016. Manually labelled tweets containing the \n",
    "\n",
    "Data is stored in a series of files, each files name is the id of the tweets. There are only 3000 tweets. Each tweet needs to be cleaned and labelled."
   ]
  },
  {
   "cell_type": "code",
   "execution_count": 44,
   "metadata": {},
   "outputs": [
    {
     "name": "stdout",
     "output_type": "stream",
     "text": [
      "2992\n"
     ]
    },
    {
     "data": {
      "text/html": [
       "<div>\n",
       "<style scoped>\n",
       "    .dataframe tbody tr th:only-of-type {\n",
       "        vertical-align: middle;\n",
       "    }\n",
       "\n",
       "    .dataframe tbody tr th {\n",
       "        vertical-align: top;\n",
       "    }\n",
       "\n",
       "    .dataframe thead th {\n",
       "        text-align: right;\n",
       "    }\n",
       "</style>\n",
       "<table border=\"1\" class=\"dataframe\">\n",
       "  <thead>\n",
       "    <tr style=\"text-align: right;\">\n",
       "      <th></th>\n",
       "      <th>id</th>\n",
       "      <th>target</th>\n",
       "    </tr>\n",
       "  </thead>\n",
       "  <tbody>\n",
       "    <tr>\n",
       "      <th>0</th>\n",
       "      <td>607668877594497024</td>\n",
       "      <td>clickbait</td>\n",
       "    </tr>\n",
       "    <tr>\n",
       "      <th>1</th>\n",
       "      <td>607671137062010881</td>\n",
       "      <td>no-clickbait</td>\n",
       "    </tr>\n",
       "    <tr>\n",
       "      <th>2</th>\n",
       "      <td>607672151638876160</td>\n",
       "      <td>no-clickbait</td>\n",
       "    </tr>\n",
       "  </tbody>\n",
       "</table>\n",
       "</div>"
      ],
      "text/plain": [
       "                   id        target\n",
       "0  607668877594497024     clickbait\n",
       "1  607671137062010881  no-clickbait\n",
       "2  607672151638876160  no-clickbait"
      ]
     },
     "execution_count": 44,
     "metadata": {},
     "output_type": "execute_result"
    }
   ],
   "source": [
    "dataset2_dir = os.listdir(dataset2_json_files)\n",
    "print(len(dataset2_id_))\n",
    "\n",
    "# load the data\n",
    "d2_json_ = []\n",
    "for dir_ in dataset2_dir:\n",
    "    PATH = dataset2_json_files + dir_ + '/' + dir_ + \".json\"\n",
    "    with open(PATH) as fp:\n",
    "        d2_json_.append(json.load(fp))\n",
    "\n",
    "d2_labels_df = pd.read_csv(dataset2_label_csv, names=['id', 'target'])\n",
    "d2_labels_df.head(3)"
   ]
  },
  {
   "cell_type": "code",
   "execution_count": 94,
   "metadata": {},
   "outputs": [],
   "source": [
    "# Parse out the relevant information from the tweet.\n",
    "tweets = []\n",
    "for tweet in d2_json_:\n",
    "    id_ = tweet['id']\n",
    "    text = tweet['text']\n",
    "    name = tweet['user']['name']\n",
    "    \n",
    "    tweets.append((id_, text, name, 2))"
   ]
  },
  {
   "cell_type": "code",
   "execution_count": 95,
   "metadata": {},
   "outputs": [],
   "source": [
    "# Create a tweet dataframe prior to merging\n",
    "index = np.arange(0, len(tweets))\n",
    "datset2 = pd.DataFrame(tweets, index=index, columns=['id', 'post_text', 'name', 'dataset'])"
   ]
  },
  {
   "cell_type": "code",
   "execution_count": 96,
   "metadata": {},
   "outputs": [],
   "source": [
    "# Merge the labels on the data frame\n",
    "df2 = datset2.merge(d2_labels_df, on = 'id')"
   ]
  },
  {
   "cell_type": "code",
   "execution_count": 107,
   "metadata": {},
   "outputs": [],
   "source": [
    "# relabel the \n",
    "true = df2.target.unique()[1]\n",
    "\n",
    "def is_clickbait(string):\n",
    "    if string == true:\n",
    "        return 1\n",
    "    else:\n",
    "        return 0\n",
    "    \n",
    "df2.target = df2.target.apply(is_clickbait)\n",
    "df2.to_csv(filepath+'dataframe2.csv', index=False)"
   ]
  },
  {
   "cell_type": "markdown",
   "metadata": {},
   "source": [
    "### Loading dataset 3\n",
    "\n",
    "Data set 3 comes from the wibst database from 2017. Manually labelled tweets and their news stories."
   ]
  },
  {
   "cell_type": "code",
   "execution_count": 16,
   "metadata": {},
   "outputs": [],
   "source": [
    "# Load dataset3\n",
    "dataset3 = []\n",
    "with open(dataset3_json) as f:\n",
    "    for line in f:\n",
    "        dataset3.append(json.loads(line))\n",
    "        \n",
    "dataset3_labels = []\n",
    "with open(dataset3_json_labels) as f:\n",
    "    for line in f:\n",
    "        dataset3_labels.append(json.loads(line))"
   ]
  },
  {
   "cell_type": "code",
   "execution_count": 27,
   "metadata": {},
   "outputs": [
    {
     "data": {
      "text/plain": [
       "'Sat Apr 29 23:25:41 +0000 2017'"
      ]
     },
     "execution_count": 27,
     "metadata": {},
     "output_type": "execute_result"
    }
   ],
   "source": [
    "# id, test, title, title, timestamp.\n",
    "dataset3[0]['id']\n",
    "dataset3[0]['postText'],\n",
    "dataset3[0]['targetTitle'],\n",
    "dataset3[0]['postTimestamp']"
   ]
  },
  {
   "cell_type": "code",
   "execution_count": 84,
   "metadata": {},
   "outputs": [],
   "source": [
    "# parse out the data and create a list of tuples\n",
    "df3_tups = []\n",
    "\n",
    "for json_ in dataset3:\n",
    "    id_= json_['id']\n",
    "    post_text = json_['postText'][0]\n",
    "    title  = json_['targetTitle']\n",
    "    timestamp = json_['postTimestamp']\n",
    "    df3_tups.append((id_, post_text, title, timestamp , 3))"
   ]
  },
  {
   "cell_type": "code",
   "execution_count": 85,
   "metadata": {},
   "outputs": [],
   "source": [
    "# Convert tuples to a dataframe\n",
    "index = np.arange(0, len(df3_tups))\n",
    "df3_X = pd.DataFrame(df3_tups, index = index, columns=['id', 'post_text', 'title', 'timestamp', 'dataset'])"
   ]
  },
  {
   "cell_type": "code",
   "execution_count": 86,
   "metadata": {},
   "outputs": [
    {
     "data": {
      "text/plain": [
       "('858464162594172928', 'clickbait')"
      ]
     },
     "execution_count": 86,
     "metadata": {},
     "output_type": "execute_result"
    }
   ],
   "source": [
    "# Parse out all of the label data\n",
    "df3_y = []\n",
    "for label in dataset3_labels:\n",
    "    id_ = label['id']\n",
    "    target = label['truthClass']\n",
    "    df3_y.append((id_, target))\n",
    "df3_y[0]"
   ]
  },
  {
   "cell_type": "code",
   "execution_count": 89,
   "metadata": {},
   "outputs": [],
   "source": [
    "index = np.arange(0, len(df3_y))\n",
    "df3_y = pd.DataFrame(df3_y, index = index, columns = ['id', 'target'])"
   ]
  },
  {
   "cell_type": "code",
   "execution_count": 91,
   "metadata": {},
   "outputs": [],
   "source": [
    "df3 = df3_X.merge(df3_y, on='id')"
   ]
  },
  {
   "cell_type": "code",
   "execution_count": 112,
   "metadata": {},
   "outputs": [],
   "source": [
    "# Classify target into clickbait or not\n",
    "true = df3.target.unique()[1]\n",
    "df3.target = df3.target.apply(is_clickbait)\n",
    "\n",
    "# Save the dataframe as a csv\n",
    "df3.to_csv(filepath + \"dataframe3.csv\", index=False)"
   ]
  },
  {
   "cell_type": "markdown",
   "metadata": {},
   "source": [
    "# Sub dataframe creation is done\n",
    "\n",
    "My next step is to start exploring the data in the next notebook which will be called `exploration`. I want to know if the data set's are similar enough to join together. "
   ]
  },
  {
   "cell_type": "code",
   "execution_count": null,
   "metadata": {},
   "outputs": [],
   "source": []
  }
 ],
 "metadata": {
  "kernelspec": {
   "display_name": "Python 3",
   "language": "python",
   "name": "python3"
  },
  "language_info": {
   "codemirror_mode": {
    "name": "ipython",
    "version": 3
   },
   "file_extension": ".py",
   "mimetype": "text/x-python",
   "name": "python",
   "nbconvert_exporter": "python",
   "pygments_lexer": "ipython3",
   "version": "3.6.9"
  }
 },
 "nbformat": 4,
 "nbformat_minor": 4
}
