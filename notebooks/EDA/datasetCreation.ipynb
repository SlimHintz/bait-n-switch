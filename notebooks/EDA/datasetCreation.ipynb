{
 "cells": [
  {
   "cell_type": "code",
   "execution_count": 1,
   "metadata": {},
   "outputs": [],
   "source": [
    "import json\n",
    "import numpy as np\n",
    "import pandas as pd\n",
    "import os\n",
    "\n",
    "%matplotlib inline"
   ]
  },
  {
   "cell_type": "code",
   "execution_count": 2,
   "metadata": {},
   "outputs": [],
   "source": [
    "filepath = '../../src/data/'\n",
    "\n",
    "# Paths to the first data set. Can import immediately using pandas, 2016\n",
    "dataset1_clickbait = '../../src/data/dataset1/clickbait_data'\n",
    "dataset1_nonclickbait = '../../src/data/dataset1/non_clickbait_data'\n",
    "\n",
    "# Paths to the second dataset, 2016\n",
    "dataset2_json_files = '../../src/data/dataset2/webis-clickbait-16/problems/'\n",
    "dataset2_label_csv = '../../src/data/dataset2/webis-clickbait-16/truth/majority.csv'\n",
    "\n",
    "# Paths to the third dataset, 2017\n",
    "\n",
    "dataset3_json = '../../src/data/dataset3/clickbait17-validation-170630/instances.jsonl'\n",
    "dataset3_json_labels = '../../src/data/dataset3/clickbait17-validation-170630/truth.jsonl'"
   ]
  },
  {
   "cell_type": "markdown",
   "metadata": {},
   "source": [
    "### Loading dataset 1\n",
    "\n",
    "This data is also news headlines but this was not labelled using mechanical turks. I imported the lines form the text file, stripped the new line characters and then made sure there were no escape characters \"\\\" in the line. I then saved the data as a list of tuples that with the target tag. once I had the the tuple list it was light work getting a data frame."
   ]
  },
  {
   "cell_type": "code",
   "execution_count": 3,
   "metadata": {},
   "outputs": [],
   "source": [
    "# Load the clickbait data and make a dataframe\n",
    "df1_clickbait = []\n",
    "with open(dataset1_clickbait) as f:\n",
    "    for line in f:\n",
    "        df1_clickbait.append(line)\n",
    "\n",
    "# Odd numbers are newlines, I'll quickly remove those from the data set\n",
    "df1_clickbait = [(line.rstrip('\\n').replace('\\'', ''), 1) for line in df1_clickbait if line != '\\n' ]\n",
    "index = np.arange(0,len(df1_clickbait))\n",
    "df1_click = pd.DataFrame(df1_clickbait, index=index, columns=['text', 'target'])"
   ]
  },
  {
   "cell_type": "code",
   "execution_count": 5,
   "metadata": {},
   "outputs": [
    {
     "data": {
      "text/html": [
       "<div>\n",
       "<style scoped>\n",
       "    .dataframe tbody tr th:only-of-type {\n",
       "        vertical-align: middle;\n",
       "    }\n",
       "\n",
       "    .dataframe tbody tr th {\n",
       "        vertical-align: top;\n",
       "    }\n",
       "\n",
       "    .dataframe thead th {\n",
       "        text-align: right;\n",
       "    }\n",
       "</style>\n",
       "<table border=\"1\" class=\"dataframe\">\n",
       "  <thead>\n",
       "    <tr style=\"text-align: right;\">\n",
       "      <th></th>\n",
       "      <th>text</th>\n",
       "      <th>target</th>\n",
       "    </tr>\n",
       "  </thead>\n",
       "  <tbody>\n",
       "    <tr>\n",
       "      <th>0</th>\n",
       "      <td>Should I Get Bings</td>\n",
       "      <td>1</td>\n",
       "    </tr>\n",
       "    <tr>\n",
       "      <th>1</th>\n",
       "      <td>Which TV Female Friend Group Do You Belong In</td>\n",
       "      <td>1</td>\n",
       "    </tr>\n",
       "    <tr>\n",
       "      <th>2</th>\n",
       "      <td>The New \"Star Wars: The Force Awakens\" Trailer...</td>\n",
       "      <td>1</td>\n",
       "    </tr>\n",
       "    <tr>\n",
       "      <th>3</th>\n",
       "      <td>This Vine Of New York On \"Celebrity Big Brothe...</td>\n",
       "      <td>1</td>\n",
       "    </tr>\n",
       "    <tr>\n",
       "      <th>4</th>\n",
       "      <td>A Couple Did A Stunning Photo Shoot With Their...</td>\n",
       "      <td>1</td>\n",
       "    </tr>\n",
       "  </tbody>\n",
       "</table>\n",
       "</div>"
      ],
      "text/plain": [
       "                                                text  target\n",
       "0                                 Should I Get Bings       1\n",
       "1      Which TV Female Friend Group Do You Belong In       1\n",
       "2  The New \"Star Wars: The Force Awakens\" Trailer...       1\n",
       "3  This Vine Of New York On \"Celebrity Big Brothe...       1\n",
       "4  A Couple Did A Stunning Photo Shoot With Their...       1"
      ]
     },
     "execution_count": 5,
     "metadata": {},
     "output_type": "execute_result"
    }
   ],
   "source": [
    "df1_click.head()"
   ]
  },
  {
   "cell_type": "code",
   "execution_count": 6,
   "metadata": {},
   "outputs": [
    {
     "data": {
      "text/html": [
       "<div>\n",
       "<style scoped>\n",
       "    .dataframe tbody tr th:only-of-type {\n",
       "        vertical-align: middle;\n",
       "    }\n",
       "\n",
       "    .dataframe tbody tr th {\n",
       "        vertical-align: top;\n",
       "    }\n",
       "\n",
       "    .dataframe thead th {\n",
       "        text-align: right;\n",
       "    }\n",
       "</style>\n",
       "<table border=\"1\" class=\"dataframe\">\n",
       "  <thead>\n",
       "    <tr style=\"text-align: right;\">\n",
       "      <th></th>\n",
       "      <th>text</th>\n",
       "      <th>target</th>\n",
       "    </tr>\n",
       "  </thead>\n",
       "  <tbody>\n",
       "    <tr>\n",
       "      <th>0</th>\n",
       "      <td>Bill Changing Credit Card Rules Is Sent to Oba...</td>\n",
       "      <td>0</td>\n",
       "    </tr>\n",
       "    <tr>\n",
       "      <th>1</th>\n",
       "      <td>In Hollywood, the Easy-Money Generation Toughe...</td>\n",
       "      <td>0</td>\n",
       "    </tr>\n",
       "    <tr>\n",
       "      <th>2</th>\n",
       "      <td>1700 runners still unaccounted for in UK's Lak...</td>\n",
       "      <td>0</td>\n",
       "    </tr>\n",
       "    <tr>\n",
       "      <th>3</th>\n",
       "      <td>Yankees Pitchers Trade Fielding Drills for Put...</td>\n",
       "      <td>0</td>\n",
       "    </tr>\n",
       "    <tr>\n",
       "      <th>4</th>\n",
       "      <td>Large earthquake rattles Indonesia; Seventh in...</td>\n",
       "      <td>0</td>\n",
       "    </tr>\n",
       "  </tbody>\n",
       "</table>\n",
       "</div>"
      ],
      "text/plain": [
       "                                                text  target\n",
       "0  Bill Changing Credit Card Rules Is Sent to Oba...       0\n",
       "1  In Hollywood, the Easy-Money Generation Toughe...       0\n",
       "2  1700 runners still unaccounted for in UK's Lak...       0\n",
       "3  Yankees Pitchers Trade Fielding Drills for Put...       0\n",
       "4  Large earthquake rattles Indonesia; Seventh in...       0"
      ]
     },
     "execution_count": 6,
     "metadata": {},
     "output_type": "execute_result"
    }
   ],
   "source": [
    "# Load the non_clickbait data and make dataframe\n",
    "df1_nonclickbait = []\n",
    "with open(dataset1_nonclickbait) as f:\n",
    "    for line in f:\n",
    "        df1_nonclickbait.append(line)\n",
    "# filter out newline characters escape characters and append the target tag\n",
    "df1_nonclickbait = [(line.rstrip(\"\\n\").replace(\"\\\"\", \"\"), 0) for line in df1_nonclickbait if line != '\\n']\n",
    "\n",
    "index = np.arange(0,len(df1_nonclickbait))\n",
    "df1_non = pd.DataFrame(df1_nonclickbait, index=index, columns=['text', 'target'])\n",
    "df1_non.head()"
   ]
  },
  {
   "cell_type": "code",
   "execution_count": 5,
   "metadata": {},
   "outputs": [],
   "source": [
    "# Concatenate the dataframes\n",
    "\n",
    "df1 = pd.concat([df1_non, df1_click])\n",
    "df1.to_csv(filepath + \"dataframe1.csv\", index=False)"
   ]
  },
  {
   "cell_type": "markdown",
   "metadata": {},
   "source": [
    "### Loading dataset 2\n",
    "\n",
    "Data set 2 comes from the wibst database from 2016. Manually labelled tweets containing the \n",
    "\n",
    "Data is stored in a series of files, each files name is the id of the tweets. There are only 3000 tweets. Each tweet needs to be cleaned and labelled."
   ]
  },
  {
   "cell_type": "code",
   "execution_count": 6,
   "metadata": {},
   "outputs": [
    {
     "data": {
      "text/html": [
       "<div>\n",
       "<style scoped>\n",
       "    .dataframe tbody tr th:only-of-type {\n",
       "        vertical-align: middle;\n",
       "    }\n",
       "\n",
       "    .dataframe tbody tr th {\n",
       "        vertical-align: top;\n",
       "    }\n",
       "\n",
       "    .dataframe thead th {\n",
       "        text-align: right;\n",
       "    }\n",
       "</style>\n",
       "<table border=\"1\" class=\"dataframe\">\n",
       "  <thead>\n",
       "    <tr style=\"text-align: right;\">\n",
       "      <th></th>\n",
       "      <th>id</th>\n",
       "      <th>target</th>\n",
       "    </tr>\n",
       "  </thead>\n",
       "  <tbody>\n",
       "    <tr>\n",
       "      <th>0</th>\n",
       "      <td>607668877594497024</td>\n",
       "      <td>clickbait</td>\n",
       "    </tr>\n",
       "    <tr>\n",
       "      <th>1</th>\n",
       "      <td>607671137062010881</td>\n",
       "      <td>no-clickbait</td>\n",
       "    </tr>\n",
       "    <tr>\n",
       "      <th>2</th>\n",
       "      <td>607672151638876160</td>\n",
       "      <td>no-clickbait</td>\n",
       "    </tr>\n",
       "  </tbody>\n",
       "</table>\n",
       "</div>"
      ],
      "text/plain": [
       "                   id        target\n",
       "0  607668877594497024     clickbait\n",
       "1  607671137062010881  no-clickbait\n",
       "2  607672151638876160  no-clickbait"
      ]
     },
     "execution_count": 6,
     "metadata": {},
     "output_type": "execute_result"
    }
   ],
   "source": [
    "dataset2_dir = os.listdir(dataset2_json_files)\n",
    "\n",
    "# load the data\n",
    "d2_json_ = []\n",
    "for dir_ in dataset2_dir:\n",
    "    PATH = dataset2_json_files + dir_ + '/' + dir_ + \".json\"\n",
    "    with open(PATH) as fp:\n",
    "        d2_json_.append(json.load(fp))\n",
    "\n",
    "d2_labels_df = pd.read_csv(dataset2_label_csv, names=['id', 'target'])\n",
    "d2_labels_df.head(3)"
   ]
  },
  {
   "cell_type": "code",
   "execution_count": 7,
   "metadata": {},
   "outputs": [
    {
     "data": {
      "text/plain": [
       "target\n",
       "clickbait        767\n",
       "no-clickbait    2225\n",
       "Name: target, dtype: int64"
      ]
     },
     "execution_count": 7,
     "metadata": {},
     "output_type": "execute_result"
    }
   ],
   "source": [
    "d2_labels_df.groupby(['target']).target.count()"
   ]
  },
  {
   "cell_type": "code",
   "execution_count": 8,
   "metadata": {},
   "outputs": [
    {
     "data": {
      "text/plain": [
       "{'extended_entities': {'media': [{'display_url': 'pic.twitter.com/esXFYDiAa3',\n",
       "    'source_user_id': 1613648400,\n",
       "    'type': 'photo',\n",
       "    'media_url': 'http://pbs.twimg.com/media/CHUEawEUEAAjCsE.jpg',\n",
       "    'source_status_id': 609398183278563328,\n",
       "    'url': 'http://t.co/esXFYDiAa3',\n",
       "    'indices': [105, 127],\n",
       "    'sizes': {'small': {'w': 340, 'h': 251, 'resize': 'fit'},\n",
       "     'large': {'w': 625, 'h': 463, 'resize': 'fit'},\n",
       "     'thumb': {'w': 150, 'h': 150, 'resize': 'crop'},\n",
       "     'medium': {'w': 600, 'h': 444, 'resize': 'fit'}},\n",
       "    'id_str': '609398182204674048',\n",
       "    'expanded_url': 'http://twitter.com/BuzzFeedBooks/status/609398183278563328/photo/1',\n",
       "    'source_status_id_str': '609398183278563328',\n",
       "    'media_url_https': 'https://pbs.twimg.com/media/CHUEawEUEAAjCsE.jpg',\n",
       "    'id': 609398182204674048,\n",
       "    'source_user_id_str': '1613648400'}]},\n",
       " 'in_reply_to_status_id_str': None,\n",
       " 'in_reply_to_status_id': None,\n",
       " 'created_at': 'Fri Jun 12 16:34:11 +0000 2015',\n",
       " 'in_reply_to_user_id_str': None,\n",
       " 'source': '<a href=\"https://about.twitter.com/products/tweetdeck\" rel=\"nofollow\">TweetDeck</a>',\n",
       " 'retweeted_status': {'extended_entities': {'media': [{'display_url': 'pic.twitter.com/esXFYDiAa3',\n",
       "     'indices': [86, 108],\n",
       "     'sizes': {'small': {'w': 340, 'h': 251, 'resize': 'fit'},\n",
       "      'large': {'w': 625, 'h': 463, 'resize': 'fit'},\n",
       "      'thumb': {'w': 150, 'h': 150, 'resize': 'crop'},\n",
       "      'medium': {'w': 600, 'h': 444, 'resize': 'fit'}},\n",
       "     'id_str': '609398182204674048',\n",
       "     'expanded_url': 'http://twitter.com/BuzzFeedBooks/status/609398183278563328/photo/1',\n",
       "     'media_url_https': 'https://pbs.twimg.com/media/CHUEawEUEAAjCsE.jpg',\n",
       "     'id': 609398182204674048,\n",
       "     'type': 'photo',\n",
       "     'media_url': 'http://pbs.twimg.com/media/CHUEawEUEAAjCsE.jpg',\n",
       "     'url': 'http://t.co/esXFYDiAa3'}]},\n",
       "  'in_reply_to_status_id_str': None,\n",
       "  'in_reply_to_status_id': None,\n",
       "  'created_at': 'Fri Jun 12 16:33:43 +0000 2015',\n",
       "  'in_reply_to_user_id_str': None,\n",
       "  'source': '<a href=\"http://twitter.com\" rel=\"nofollow\">Twitter Web Client</a>',\n",
       "  'retweet_count': 103,\n",
       "  'retweeted': False,\n",
       "  'geo': None,\n",
       "  'in_reply_to_screen_name': None,\n",
       "  'is_quote_status': False,\n",
       "  'id_str': '609398183278563328',\n",
       "  'in_reply_to_user_id': None,\n",
       "  'favorite_count': 165,\n",
       "  'id': 609398183278563328,\n",
       "  'text': 'John Green responded on Tumblr to accusations of sexual abuse: http://t.co/oYwyPhihus http://t.co/esXFYDiAa3',\n",
       "  'place': None,\n",
       "  'lang': 'en',\n",
       "  'favorited': False,\n",
       "  'possibly_sensitive': False,\n",
       "  'coordinates': None,\n",
       "  'truncated': False,\n",
       "  'entities': {'urls': [{'display_url': 'buzzfeed.com/jarrylee/john-…',\n",
       "     'indices': [63, 85],\n",
       "     'expanded_url': 'http://www.buzzfeed.com/jarrylee/john-green-responded-on-tumblr-to-accusations-of-sexual-abus',\n",
       "     'url': 'http://t.co/oYwyPhihus'}],\n",
       "   'hashtags': [],\n",
       "   'media': [{'display_url': 'pic.twitter.com/esXFYDiAa3',\n",
       "     'indices': [86, 108],\n",
       "     'sizes': {'small': {'w': 340, 'h': 251, 'resize': 'fit'},\n",
       "      'large': {'w': 625, 'h': 463, 'resize': 'fit'},\n",
       "      'thumb': {'w': 150, 'h': 150, 'resize': 'crop'},\n",
       "      'medium': {'w': 600, 'h': 444, 'resize': 'fit'}},\n",
       "     'id_str': '609398182204674048',\n",
       "     'expanded_url': 'http://twitter.com/BuzzFeedBooks/status/609398183278563328/photo/1',\n",
       "     'media_url_https': 'https://pbs.twimg.com/media/CHUEawEUEAAjCsE.jpg',\n",
       "     'id': 609398182204674048,\n",
       "     'type': 'photo',\n",
       "     'media_url': 'http://pbs.twimg.com/media/CHUEawEUEAAjCsE.jpg',\n",
       "     'url': 'http://t.co/esXFYDiAa3'}],\n",
       "   'user_mentions': [],\n",
       "   'symbols': []},\n",
       "  'contributors': None,\n",
       "  'user': {'utc_offset': -10800,\n",
       "   'friends_count': 431,\n",
       "   'profile_image_url_https': 'https://pbs.twimg.com/profile_images/519905620850249728/aXUon8LZ_normal.jpeg',\n",
       "   'listed_count': 859,\n",
       "   'profile_background_image_url': 'http://pbs.twimg.com/profile_background_images/543564197435420673/u394JfHE.png',\n",
       "   'default_profile_image': False,\n",
       "   'favourites_count': 37,\n",
       "   'description': \"Having fun isn't hard when you've got a library card.\",\n",
       "   'created_at': 'Mon Jul 22 21:15:06 +0000 2013',\n",
       "   'is_translator': False,\n",
       "   'profile_background_image_url_https': 'https://pbs.twimg.com/profile_background_images/543564197435420673/u394JfHE.png',\n",
       "   'protected': False,\n",
       "   'screen_name': 'BuzzFeedBooks',\n",
       "   'id_str': '1613648400',\n",
       "   'profile_link_color': '0084B4',\n",
       "   'is_translation_enabled': False,\n",
       "   'id': 1613648400,\n",
       "   'geo_enabled': False,\n",
       "   'profile_background_color': 'C0DEED',\n",
       "   'lang': 'en',\n",
       "   'profile_sidebar_border_color': 'FFFFFF',\n",
       "   'profile_text_color': '333333',\n",
       "   'verified': True,\n",
       "   'profile_image_url': 'http://pbs.twimg.com/profile_images/519905620850249728/aXUon8LZ_normal.jpeg',\n",
       "   'time_zone': 'Atlantic Time (Canada)',\n",
       "   'url': 'http://t.co/y3NRtiiw1K',\n",
       "   'contributors_enabled': False,\n",
       "   'profile_background_tile': True,\n",
       "   'profile_banner_url': 'https://pbs.twimg.com/profile_banners/1613648400/1418430248',\n",
       "   'entities': {'description': {'urls': []},\n",
       "    'url': {'urls': [{'display_url': 'buzzfeed.com/books',\n",
       "       'indices': [0, 22],\n",
       "       'expanded_url': 'http://buzzfeed.com/books',\n",
       "       'url': 'http://t.co/y3NRtiiw1K'}]}},\n",
       "   'statuses_count': 6868,\n",
       "   'follow_request_sent': False,\n",
       "   'followers_count': 54214,\n",
       "   'profile_use_background_image': True,\n",
       "   'default_profile': False,\n",
       "   'following': False,\n",
       "   'name': 'BuzzFeed Books',\n",
       "   'location': '',\n",
       "   'profile_sidebar_fill_color': 'DDEEF6',\n",
       "   'notifications': False}},\n",
       " 'retweet_count': 103,\n",
       " 'retweeted': False,\n",
       " 'geo': None,\n",
       " 'in_reply_to_screen_name': None,\n",
       " 'is_quote_status': False,\n",
       " 'id_str': '609398299926339584',\n",
       " 'in_reply_to_user_id': None,\n",
       " 'favorite_count': 0,\n",
       " 'id': 609398299926339584,\n",
       " 'text': 'RT @BuzzFeedBooks: John Green responded on Tumblr to accusations of sexual abuse: http://t.co/oYwyPhihus http://t.co/esXFYDiAa3',\n",
       " 'place': None,\n",
       " 'lang': 'en',\n",
       " 'favorited': False,\n",
       " 'possibly_sensitive': False,\n",
       " 'coordinates': None,\n",
       " 'truncated': False,\n",
       " 'entities': {'urls': [{'display_url': 'buzzfeed.com/jarrylee/john-…',\n",
       "    'indices': [82, 104],\n",
       "    'expanded_url': 'http://www.buzzfeed.com/jarrylee/john-green-responded-on-tumblr-to-accusations-of-sexual-abus',\n",
       "    'url': 'http://t.co/oYwyPhihus'}],\n",
       "  'hashtags': [],\n",
       "  'media': [{'display_url': 'pic.twitter.com/esXFYDiAa3',\n",
       "    'source_user_id': 1613648400,\n",
       "    'type': 'photo',\n",
       "    'media_url': 'http://pbs.twimg.com/media/CHUEawEUEAAjCsE.jpg',\n",
       "    'source_status_id': 609398183278563328,\n",
       "    'url': 'http://t.co/esXFYDiAa3',\n",
       "    'indices': [105, 127],\n",
       "    'sizes': {'small': {'w': 340, 'h': 251, 'resize': 'fit'},\n",
       "     'large': {'w': 625, 'h': 463, 'resize': 'fit'},\n",
       "     'thumb': {'w': 150, 'h': 150, 'resize': 'crop'},\n",
       "     'medium': {'w': 600, 'h': 444, 'resize': 'fit'}},\n",
       "    'id_str': '609398182204674048',\n",
       "    'expanded_url': 'http://twitter.com/BuzzFeedBooks/status/609398183278563328/photo/1',\n",
       "    'source_status_id_str': '609398183278563328',\n",
       "    'media_url_https': 'https://pbs.twimg.com/media/CHUEawEUEAAjCsE.jpg',\n",
       "    'id': 609398182204674048,\n",
       "    'source_user_id_str': '1613648400'}],\n",
       "  'user_mentions': [{'indices': [3, 17],\n",
       "    'screen_name': 'BuzzFeedBooks',\n",
       "    'id_str': '1613648400',\n",
       "    'name': 'BuzzFeed Books',\n",
       "    'id': 1613648400}],\n",
       "  'symbols': []},\n",
       " 'contributors': None,\n",
       " 'user': {'utc_offset': -14400,\n",
       "  'friends_count': 2972,\n",
       "  'profile_image_url_https': 'https://pbs.twimg.com/profile_images/516601006545588225/8TO2Ayk0_normal.png',\n",
       "  'listed_count': 16759,\n",
       "  'profile_background_image_url': 'http://pbs.twimg.com/profile_background_images/692746869/35222c82bb6e49af015ec289ba4733d1.gif',\n",
       "  'default_profile_image': False,\n",
       "  'favourites_count': 1932,\n",
       "  'description': 'News - Buzz - Life.\\nDownload the BuzzFeed App: http://t.co/dEdAvsrXkQ',\n",
       "  'created_at': 'Tue May 01 21:40:03 +0000 2007',\n",
       "  'is_translator': False,\n",
       "  'profile_background_image_url_https': 'https://pbs.twimg.com/profile_background_images/692746869/35222c82bb6e49af015ec289ba4733d1.gif',\n",
       "  'protected': False,\n",
       "  'screen_name': 'BuzzFeed',\n",
       "  'id_str': '5695632',\n",
       "  'profile_link_color': '0077CC',\n",
       "  'is_translation_enabled': True,\n",
       "  'id': 5695632,\n",
       "  'geo_enabled': True,\n",
       "  'profile_background_color': 'FFFFFF',\n",
       "  'lang': 'en',\n",
       "  'profile_sidebar_border_color': 'FFFFFF',\n",
       "  'profile_text_color': '000000',\n",
       "  'verified': True,\n",
       "  'profile_image_url': 'http://pbs.twimg.com/profile_images/516601006545588225/8TO2Ayk0_normal.png',\n",
       "  'time_zone': 'Eastern Time (US & Canada)',\n",
       "  'url': 'http://t.co/9w8lZSMA0L',\n",
       "  'contributors_enabled': False,\n",
       "  'profile_background_tile': True,\n",
       "  'profile_banner_url': 'https://pbs.twimg.com/profile_banners/5695632/1355332565',\n",
       "  'entities': {'description': {'urls': [{'display_url': 'bzfd.it/APP',\n",
       "      'indices': [47, 69],\n",
       "      'expanded_url': 'http://bzfd.it/APP',\n",
       "      'url': 'http://t.co/dEdAvsrXkQ'}]},\n",
       "   'url': {'urls': [{'display_url': 'buzzfeed.com',\n",
       "      'indices': [0, 22],\n",
       "      'expanded_url': 'http://www.buzzfeed.com',\n",
       "      'url': 'http://t.co/9w8lZSMA0L'}]}},\n",
       "  'statuses_count': 124399,\n",
       "  'follow_request_sent': False,\n",
       "  'followers_count': 2298932,\n",
       "  'profile_use_background_image': True,\n",
       "  'default_profile': False,\n",
       "  'following': False,\n",
       "  'name': 'BuzzFeed',\n",
       "  'location': 'New York',\n",
       "  'profile_sidebar_fill_color': 'EEEEEE',\n",
       "  'notifications': False}}"
      ]
     },
     "execution_count": 8,
     "metadata": {},
     "output_type": "execute_result"
    }
   ],
   "source": [
    "d2_json_[0]"
   ]
  },
  {
   "cell_type": "code",
   "execution_count": 9,
   "metadata": {},
   "outputs": [],
   "source": [
    "# Parse out the relevant information from the tweet.\n",
    "tweets = []\n",
    "for tweet in d2_json_:\n",
    "    id_ = tweet['id']\n",
    "    text = tweet['text']\n",
    "    name = tweet['user']['name']\n",
    "    \n",
    "    tweets.append((id_, text, name, 2))"
   ]
  },
  {
   "cell_type": "code",
   "execution_count": 10,
   "metadata": {},
   "outputs": [],
   "source": [
    "# Create a tweet dataframe prior to merging\n",
    "index = np.arange(0, len(tweets))\n",
    "datset2 = pd.DataFrame(tweets, index=index, columns=['id', 'post_text', 'name', 'dataset'])"
   ]
  },
  {
   "cell_type": "code",
   "execution_count": 11,
   "metadata": {},
   "outputs": [
    {
     "data": {
      "text/html": [
       "<div>\n",
       "<style scoped>\n",
       "    .dataframe tbody tr th:only-of-type {\n",
       "        vertical-align: middle;\n",
       "    }\n",
       "\n",
       "    .dataframe tbody tr th {\n",
       "        vertical-align: top;\n",
       "    }\n",
       "\n",
       "    .dataframe thead th {\n",
       "        text-align: right;\n",
       "    }\n",
       "</style>\n",
       "<table border=\"1\" class=\"dataframe\">\n",
       "  <thead>\n",
       "    <tr style=\"text-align: right;\">\n",
       "      <th></th>\n",
       "      <th>id</th>\n",
       "      <th>post_text</th>\n",
       "      <th>name</th>\n",
       "      <th>dataset</th>\n",
       "      <th>target</th>\n",
       "    </tr>\n",
       "  </thead>\n",
       "  <tbody>\n",
       "    <tr>\n",
       "      <th>0</th>\n",
       "      <td>609398299926339584</td>\n",
       "      <td>RT @BuzzFeedBooks: John Green responded on Tum...</td>\n",
       "      <td>BuzzFeed</td>\n",
       "      <td>2</td>\n",
       "      <td>no-clickbait</td>\n",
       "    </tr>\n",
       "    <tr>\n",
       "      <th>1</th>\n",
       "      <td>609858047670923265</td>\n",
       "      <td>ISIS intercepts thousands of Syrian refugees t...</td>\n",
       "      <td>Daily Mail Online</td>\n",
       "      <td>2</td>\n",
       "      <td>no-clickbait</td>\n",
       "    </tr>\n",
       "    <tr>\n",
       "      <th>2</th>\n",
       "      <td>607934124813205505</td>\n",
       "      <td>RT @foxnewslatino: Carlos Santana (and his wif...</td>\n",
       "      <td>Fox News</td>\n",
       "      <td>2</td>\n",
       "      <td>no-clickbait</td>\n",
       "    </tr>\n",
       "    <tr>\n",
       "      <th>3</th>\n",
       "      <td>609361820944605185</td>\n",
       "      <td>Female scientists fire back at Nobel laureate’...</td>\n",
       "      <td>Yahoo</td>\n",
       "      <td>2</td>\n",
       "      <td>no-clickbait</td>\n",
       "    </tr>\n",
       "    <tr>\n",
       "      <th>4</th>\n",
       "      <td>610056503626698752</td>\n",
       "      <td>RT @davidshukmanbbc: Amazing news from deep sp...</td>\n",
       "      <td>BBC News (UK)</td>\n",
       "      <td>2</td>\n",
       "      <td>no-clickbait</td>\n",
       "    </tr>\n",
       "  </tbody>\n",
       "</table>\n",
       "</div>"
      ],
      "text/plain": [
       "                   id                                          post_text  \\\n",
       "0  609398299926339584  RT @BuzzFeedBooks: John Green responded on Tum...   \n",
       "1  609858047670923265  ISIS intercepts thousands of Syrian refugees t...   \n",
       "2  607934124813205505  RT @foxnewslatino: Carlos Santana (and his wif...   \n",
       "3  609361820944605185  Female scientists fire back at Nobel laureate’...   \n",
       "4  610056503626698752  RT @davidshukmanbbc: Amazing news from deep sp...   \n",
       "\n",
       "                name  dataset        target  \n",
       "0           BuzzFeed        2  no-clickbait  \n",
       "1  Daily Mail Online        2  no-clickbait  \n",
       "2           Fox News        2  no-clickbait  \n",
       "3              Yahoo        2  no-clickbait  \n",
       "4      BBC News (UK)        2  no-clickbait  "
      ]
     },
     "execution_count": 11,
     "metadata": {},
     "output_type": "execute_result"
    }
   ],
   "source": [
    "# Merge the labels on the data frame\n",
    "df2 = datset2.merge(d2_labels_df, on = 'id')\n",
    "df2.head()"
   ]
  },
  {
   "cell_type": "code",
   "execution_count": 12,
   "metadata": {},
   "outputs": [
    {
     "name": "stdout",
     "output_type": "stream",
     "text": [
      "clickbait\n"
     ]
    }
   ],
   "source": [
    "# relabel the \n",
    "true = df2.target.unique()[1]\n",
    "print(true)\n",
    "def is_clickbait(string):\n",
    "    if string == true:\n",
    "        return 1\n",
    "    else:\n",
    "        return 0\n",
    "    \n",
    "df2.target = df2.target.apply(is_clickbait)\n",
    "df2.to_csv(filepath+'dataframe2.csv', index=False)"
   ]
  },
  {
   "cell_type": "markdown",
   "metadata": {},
   "source": [
    "### Loading dataset 3\n",
    "\n",
    "Data set 3 comes from the wibst database from 2017. Manually labelled tweets and their news stories."
   ]
  },
  {
   "cell_type": "code",
   "execution_count": 13,
   "metadata": {},
   "outputs": [],
   "source": [
    "# Load dataset3\n",
    "dataset3 = []\n",
    "with open(dataset3_json) as f:\n",
    "    for line in f:\n",
    "        dataset3.append(json.loads(line))\n",
    "        \n",
    "dataset3_labels = []\n",
    "with open(dataset3_json_labels) as f:\n",
    "    for line in f:\n",
    "        dataset3_labels.append(json.loads(line))"
   ]
  },
  {
   "cell_type": "code",
   "execution_count": 14,
   "metadata": {},
   "outputs": [
    {
     "data": {
      "text/plain": [
       "'Sat Apr 29 23:25:41 +0000 2017'"
      ]
     },
     "execution_count": 14,
     "metadata": {},
     "output_type": "execute_result"
    }
   ],
   "source": [
    "# id, test, title, title, timestamp.\n",
    "dataset3[0]['id']\n",
    "dataset3[0]['postText'],\n",
    "dataset3[0]['targetTitle'],\n",
    "dataset3[0]['postTimestamp']"
   ]
  },
  {
   "cell_type": "code",
   "execution_count": 15,
   "metadata": {},
   "outputs": [
    {
     "data": {
      "text/plain": [
       "{'truthJudgments': [0.6666666666, 0.6666666666, 1.0, 0.6666666666, 0.0],\n",
       " 'truthMean': 0.59999999996,\n",
       " 'id': '858444379232624641',\n",
       " 'truthClass': 'clickbait',\n",
       " 'truthMedian': 0.6666666666,\n",
       " 'truthMode': 0.6666666666}"
      ]
     },
     "execution_count": 15,
     "metadata": {},
     "output_type": "execute_result"
    }
   ],
   "source": [
    "dataset3_labels[8]"
   ]
  },
  {
   "cell_type": "code",
   "execution_count": 16,
   "metadata": {},
   "outputs": [],
   "source": [
    "# parse out the data and create a list of tuples\n",
    "df3_tups = []\n",
    "\n",
    "for json_ in dataset3:\n",
    "    id_= json_['id']\n",
    "    post_text = json_['postText'][0]\n",
    "    title  = json_['targetTitle']\n",
    "    timestamp = json_['postTimestamp']\n",
    "    df3_tups.append((id_, post_text, title, timestamp , 3))"
   ]
  },
  {
   "cell_type": "code",
   "execution_count": 17,
   "metadata": {},
   "outputs": [],
   "source": [
    "# Convert tuples to a dataframe\n",
    "index = np.arange(0, len(df3_tups))\n",
    "df3_X = pd.DataFrame(df3_tups, index = index, columns=['id', 'post_text', 'title', 'timestamp', 'dataset'])"
   ]
  },
  {
   "cell_type": "code",
   "execution_count": 18,
   "metadata": {},
   "outputs": [
    {
     "data": {
      "text/plain": [
       "('858464162594172928', 'clickbait')"
      ]
     },
     "execution_count": 18,
     "metadata": {},
     "output_type": "execute_result"
    }
   ],
   "source": [
    "# Parse out all of the label data\n",
    "df3_y = []\n",
    "for label in dataset3_labels:\n",
    "    id_ = label['id']\n",
    "    target = label['truthClass']\n",
    "    df3_y.append((id_, target))\n",
    "df3_y[0]"
   ]
  },
  {
   "cell_type": "code",
   "execution_count": 19,
   "metadata": {},
   "outputs": [],
   "source": [
    "index = np.arange(0, len(df3_y))\n",
    "df3_y = pd.DataFrame(df3_y, index = index, columns = ['id', 'target'])"
   ]
  },
  {
   "cell_type": "code",
   "execution_count": 20,
   "metadata": {},
   "outputs": [
    {
     "data": {
      "text/html": [
       "<div>\n",
       "<style scoped>\n",
       "    .dataframe tbody tr th:only-of-type {\n",
       "        vertical-align: middle;\n",
       "    }\n",
       "\n",
       "    .dataframe tbody tr th {\n",
       "        vertical-align: top;\n",
       "    }\n",
       "\n",
       "    .dataframe thead th {\n",
       "        text-align: right;\n",
       "    }\n",
       "</style>\n",
       "<table border=\"1\" class=\"dataframe\">\n",
       "  <thead>\n",
       "    <tr style=\"text-align: right;\">\n",
       "      <th></th>\n",
       "      <th>id</th>\n",
       "      <th>post_text</th>\n",
       "      <th>title</th>\n",
       "      <th>timestamp</th>\n",
       "      <th>dataset</th>\n",
       "      <th>target</th>\n",
       "    </tr>\n",
       "  </thead>\n",
       "  <tbody>\n",
       "    <tr>\n",
       "      <th>0</th>\n",
       "      <td>858462320779026433</td>\n",
       "      <td>UK’s response to modern slavery leaving victim...</td>\n",
       "      <td>‘Inexcusable’ failures in UK’s response to mod...</td>\n",
       "      <td>Sat Apr 29 23:25:41 +0000 2017</td>\n",
       "      <td>3</td>\n",
       "      <td>no-clickbait</td>\n",
       "    </tr>\n",
       "    <tr>\n",
       "      <th>1</th>\n",
       "      <td>858421020331560960</td>\n",
       "      <td>this is good</td>\n",
       "      <td>Donald Trump Appoints Pro-Life Advocate as Ass...</td>\n",
       "      <td>Sat Apr 29 20:41:34 +0000 2017</td>\n",
       "      <td>3</td>\n",
       "      <td>clickbait</td>\n",
       "    </tr>\n",
       "    <tr>\n",
       "      <th>2</th>\n",
       "      <td>858368123753435136</td>\n",
       "      <td>The \"forgotten\" Trump roast: Relive his brutal...</td>\n",
       "      <td>The ‘forgotten’ Trump roast: Relive his brutal...</td>\n",
       "      <td>Sat Apr 29 17:11:23 +0000 2017</td>\n",
       "      <td>3</td>\n",
       "      <td>no-clickbait</td>\n",
       "    </tr>\n",
       "    <tr>\n",
       "      <th>3</th>\n",
       "      <td>858323428260139008</td>\n",
       "      <td>Meet the happiest #dog in the world!</td>\n",
       "      <td>Meet The Happiest Dog In The World, Maru The H...</td>\n",
       "      <td>Sat Apr 29 14:13:46 +0000 2017</td>\n",
       "      <td>3</td>\n",
       "      <td>clickbait</td>\n",
       "    </tr>\n",
       "    <tr>\n",
       "      <th>4</th>\n",
       "      <td>858283602626347008</td>\n",
       "      <td>Tokyo's subway is shut down amid fears over an...</td>\n",
       "      <td>Tokyo's subway is shut down amid fears over an...</td>\n",
       "      <td>Sat Apr 29 11:35:31 +0000 2017</td>\n",
       "      <td>3</td>\n",
       "      <td>no-clickbait</td>\n",
       "    </tr>\n",
       "  </tbody>\n",
       "</table>\n",
       "</div>"
      ],
      "text/plain": [
       "                   id                                          post_text  \\\n",
       "0  858462320779026433  UK’s response to modern slavery leaving victim...   \n",
       "1  858421020331560960                                       this is good   \n",
       "2  858368123753435136  The \"forgotten\" Trump roast: Relive his brutal...   \n",
       "3  858323428260139008               Meet the happiest #dog in the world!   \n",
       "4  858283602626347008  Tokyo's subway is shut down amid fears over an...   \n",
       "\n",
       "                                               title  \\\n",
       "0  ‘Inexcusable’ failures in UK’s response to mod...   \n",
       "1  Donald Trump Appoints Pro-Life Advocate as Ass...   \n",
       "2  The ‘forgotten’ Trump roast: Relive his brutal...   \n",
       "3  Meet The Happiest Dog In The World, Maru The H...   \n",
       "4  Tokyo's subway is shut down amid fears over an...   \n",
       "\n",
       "                        timestamp  dataset        target  \n",
       "0  Sat Apr 29 23:25:41 +0000 2017        3  no-clickbait  \n",
       "1  Sat Apr 29 20:41:34 +0000 2017        3     clickbait  \n",
       "2  Sat Apr 29 17:11:23 +0000 2017        3  no-clickbait  \n",
       "3  Sat Apr 29 14:13:46 +0000 2017        3     clickbait  \n",
       "4  Sat Apr 29 11:35:31 +0000 2017        3  no-clickbait  "
      ]
     },
     "execution_count": 20,
     "metadata": {},
     "output_type": "execute_result"
    }
   ],
   "source": [
    "df3 = df3_X.merge(df3_y, on='id')\n",
    "df3.head()"
   ]
  },
  {
   "cell_type": "code",
   "execution_count": 21,
   "metadata": {},
   "outputs": [],
   "source": [
    "# Classify target into clickbait or not\n",
    "true = df3.target.unique()[1]\n",
    "df3.target = df3.target.apply(is_clickbait)\n",
    "\n",
    "# Save the dataframe as a csv\n",
    "df3.to_csv(filepath + \"dataframe3.csv\", index=False)"
   ]
  },
  {
   "cell_type": "markdown",
   "metadata": {},
   "source": [
    "# Sub dataframe creation is done\n",
    "\n",
    "My next step is to start exploring the data in the next notebook which will be called `exploration`. I want to know if the data set's are similar enough to join together. "
   ]
  },
  {
   "cell_type": "code",
   "execution_count": 22,
   "metadata": {},
   "outputs": [
    {
     "data": {
      "text/plain": [
       "'clickbait'"
      ]
     },
     "execution_count": 22,
     "metadata": {},
     "output_type": "execute_result"
    }
   ],
   "source": [
    "true"
   ]
  },
  {
   "cell_type": "code",
   "execution_count": null,
   "metadata": {},
   "outputs": [],
   "source": []
  }
 ],
 "metadata": {
  "kernelspec": {
   "display_name": "Python 3",
   "language": "python",
   "name": "python3"
  },
  "language_info": {
   "codemirror_mode": {
    "name": "ipython",
    "version": 3
   },
   "file_extension": ".py",
   "mimetype": "text/x-python",
   "name": "python",
   "nbconvert_exporter": "python",
   "pygments_lexer": "ipython3",
   "version": "3.8.5"
  }
 },
 "nbformat": 4,
 "nbformat_minor": 4
}
