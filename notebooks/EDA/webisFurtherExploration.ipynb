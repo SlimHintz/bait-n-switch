{
 "cells": [
  {
   "cell_type": "markdown",
   "metadata": {},
   "source": [
    "## My model performance on the Chakraborty data set was very high while webis was very low\n",
    "\n",
    "Here, I would like to delve a little bit deeper into the data differences between my datasets. In particular, I would like to filter the Webis data set for any headline that is near the decision boundary. That is, 5 people voted and they took the average of the rating on a likert scale. That means that some of headlines were near the decision boundar. I would like to firstly examine those headlines and then move on to may removing them from the analysis in order to improve my model performance. \n",
    "\n",
    "I see this as an opportunity to tune the the model to the real world case. I only want to identify the most sensationalist click bait. My model has a high f1, but I am willing to sacrifice some recall (increase false negatives) if it means that I am only classifying the most aggregious examples. "
   ]
  },
  {
   "cell_type": "code",
   "execution_count": 1,
   "metadata": {},
   "outputs": [],
   "source": [
    "# import libraries \n",
    "import json\n",
    "import numpy as np\n",
    "import pandas as pd\n",
    "import os\n",
    "\n",
    "%matplotlib inline\n",
    "\n",
    "# Paths to the third dataset, (webis 2017)\n",
    "dataset3_json = './src/data/dataset3/clickbait17-validation-170630/instances.jsonl'\n",
    "dataset3_json_labels = './src/data/dataset3/clickbait17-validation-170630/truth.jsonl'"
   ]
  },
  {
   "cell_type": "code",
   "execution_count": 2,
   "metadata": {},
   "outputs": [],
   "source": [
    "# Load dataset3\n",
    "dataset3 = []\n",
    "with open(dataset3_json) as f:\n",
    "    for line in f:\n",
    "        dataset3.append(json.loads(line))\n",
    "        \n",
    "dataset3_labels = []\n",
    "with open(dataset3_json_labels) as f:\n",
    "    for line in f:\n",
    "        dataset3_labels.append(json.loads(line))"
   ]
  },
  {
   "cell_type": "markdown",
   "metadata": {},
   "source": [
    "Each label is a json with the results of all of the votes cast by the amazon mechanical turks. They took the mean to be the ground truth. If the mean was above 0.5, I assumed that it mean that it was click bait, if it was lower, they took it to mean that the headline was not clickbait. Here I will test that assumption:"
   ]
  },
  {
   "cell_type": "code",
   "execution_count": 5,
   "metadata": {},
   "outputs": [
    {
     "data": {
      "text/plain": [
       "{'truthJudgments': [0.3333333333, 0.0, 0.3333333333, 0.0, 0.0],\n",
       " 'truthMean': 0.13333333332,\n",
       " 'id': '858462320779026433',\n",
       " 'truthClass': 'no-clickbait',\n",
       " 'truthMedian': 0.0,\n",
       " 'truthMode': 0.0}"
      ]
     },
     "execution_count": 5,
     "metadata": {},
     "output_type": "execute_result"
    }
   ],
   "source": [
    "dataset3_labels[1]"
   ]
  },
  {
   "cell_type": "code",
   "execution_count": 37,
   "metadata": {},
   "outputs": [],
   "source": [
    "def examine_truth(json_list):\n",
    "    tuples_ = []\n",
    "    for json_ in json_list:\n",
    "        id_ = json_['id']\n",
    "        truthJudgments = json_['truthJudgments']\n",
    "        truth_mean = json_['truthMean']\n",
    "        truthClass = json_['truthClass']\n",
    "        tuples_.append((id_, truthJudgments, truth_mean, truthClass))\n",
    "    return pd.DataFrame(tuples_, columns = ['id', 'judgements', 'mean_', 'class_'])\n",
    "\n",
    "webis_df = examine_truth(dataset3_labels)"
   ]
  },
  {
   "cell_type": "code",
   "execution_count": 38,
   "metadata": {},
   "outputs": [
    {
     "name": "stdout",
     "output_type": "stream",
     "text": [
      "<class 'pandas.core.frame.DataFrame'>\n",
      "RangeIndex: 19538 entries, 0 to 19537\n",
      "Data columns (total 4 columns):\n",
      " #   Column      Non-Null Count  Dtype  \n",
      "---  ------      --------------  -----  \n",
      " 0   id          19538 non-null  object \n",
      " 1   judgements  19538 non-null  object \n",
      " 2   mean_       19538 non-null  float64\n",
      " 3   class_      19538 non-null  object \n",
      "dtypes: float64(1), object(3)\n",
      "memory usage: 610.7+ KB\n"
     ]
    }
   ],
   "source": [
    "webis_df.info()"
   ]
  },
  {
   "cell_type": "code",
   "execution_count": 39,
   "metadata": {},
   "outputs": [
    {
     "data": {
      "text/html": [
       "<div>\n",
       "<style scoped>\n",
       "    .dataframe tbody tr th:only-of-type {\n",
       "        vertical-align: middle;\n",
       "    }\n",
       "\n",
       "    .dataframe tbody tr th {\n",
       "        vertical-align: top;\n",
       "    }\n",
       "\n",
       "    .dataframe thead th {\n",
       "        text-align: right;\n",
       "    }\n",
       "</style>\n",
       "<table border=\"1\" class=\"dataframe\">\n",
       "  <thead>\n",
       "    <tr style=\"text-align: right;\">\n",
       "      <th></th>\n",
       "      <th>id</th>\n",
       "      <th>judgements</th>\n",
       "      <th>mean_</th>\n",
       "      <th>class_</th>\n",
       "    </tr>\n",
       "  </thead>\n",
       "  <tbody>\n",
       "    <tr>\n",
       "      <th>0</th>\n",
       "      <td>858464162594172928</td>\n",
       "      <td>[1.0, 1.0, 1.0, 1.0, 1.0]</td>\n",
       "      <td>1.000000</td>\n",
       "      <td>clickbait</td>\n",
       "    </tr>\n",
       "    <tr>\n",
       "      <th>1</th>\n",
       "      <td>858462320779026433</td>\n",
       "      <td>[0.3333333333, 0.0, 0.3333333333, 0.0, 0.0]</td>\n",
       "      <td>0.133333</td>\n",
       "      <td>no-clickbait</td>\n",
       "    </tr>\n",
       "    <tr>\n",
       "      <th>2</th>\n",
       "      <td>858460992073863168</td>\n",
       "      <td>[0.3333333333, 0.6666666666, 1.0, 0.0, 0.0]</td>\n",
       "      <td>0.400000</td>\n",
       "      <td>no-clickbait</td>\n",
       "    </tr>\n",
       "    <tr>\n",
       "      <th>3</th>\n",
       "      <td>858459539296980995</td>\n",
       "      <td>[0.0, 0.6666666666, 0.0, 0.3333333333, 0.33333...</td>\n",
       "      <td>0.266667</td>\n",
       "      <td>no-clickbait</td>\n",
       "    </tr>\n",
       "    <tr>\n",
       "      <th>4</th>\n",
       "      <td>858455355948384257</td>\n",
       "      <td>[0.0, 0.0, 0.0, 0.0, 0.0]</td>\n",
       "      <td>0.000000</td>\n",
       "      <td>no-clickbait</td>\n",
       "    </tr>\n",
       "  </tbody>\n",
       "</table>\n",
       "</div>"
      ],
      "text/plain": [
       "                   id                                         judgements  \\\n",
       "0  858464162594172928                          [1.0, 1.0, 1.0, 1.0, 1.0]   \n",
       "1  858462320779026433        [0.3333333333, 0.0, 0.3333333333, 0.0, 0.0]   \n",
       "2  858460992073863168        [0.3333333333, 0.6666666666, 1.0, 0.0, 0.0]   \n",
       "3  858459539296980995  [0.0, 0.6666666666, 0.0, 0.3333333333, 0.33333...   \n",
       "4  858455355948384257                          [0.0, 0.0, 0.0, 0.0, 0.0]   \n",
       "\n",
       "      mean_        class_  \n",
       "0  1.000000     clickbait  \n",
       "1  0.133333  no-clickbait  \n",
       "2  0.400000  no-clickbait  \n",
       "3  0.266667  no-clickbait  \n",
       "4  0.000000  no-clickbait  "
      ]
     },
     "execution_count": 39,
     "metadata": {},
     "output_type": "execute_result"
    }
   ],
   "source": [
    "webis_df.head()"
   ]
  },
  {
   "cell_type": "code",
   "execution_count": 40,
   "metadata": {},
   "outputs": [
    {
     "data": {
      "text/plain": [
       "class_\n",
       "clickbait       0.689155\n",
       "no-clickbait    0.207051\n",
       "Name: mean_, dtype: float64"
      ]
     },
     "execution_count": 40,
     "metadata": {},
     "output_type": "execute_result"
    }
   ],
   "source": [
    "webis_df.groupby(['class_']).mean_.mean()"
   ]
  },
  {
   "cell_type": "code",
   "execution_count": 43,
   "metadata": {},
   "outputs": [
    {
     "data": {
      "text/plain": [
       "count    4761.000000\n",
       "mean        0.689155\n",
       "std         0.146736\n",
       "min         0.400000\n",
       "25%         0.600000\n",
       "50%         0.666667\n",
       "75%         0.800000\n",
       "max         1.000000\n",
       "Name: mean_, dtype: float64"
      ]
     },
     "execution_count": 43,
     "metadata": {},
     "output_type": "execute_result"
    }
   ],
   "source": [
    "webis_df[webis_df.class_ == 'clickbait'].mean_.describe()"
   ]
  },
  {
   "cell_type": "code",
   "execution_count": 48,
   "metadata": {},
   "outputs": [
    {
     "data": {
      "text/html": [
       "<div>\n",
       "<style scoped>\n",
       "    .dataframe tbody tr th:only-of-type {\n",
       "        vertical-align: middle;\n",
       "    }\n",
       "\n",
       "    .dataframe tbody tr th {\n",
       "        vertical-align: top;\n",
       "    }\n",
       "\n",
       "    .dataframe thead th {\n",
       "        text-align: right;\n",
       "    }\n",
       "</style>\n",
       "<table border=\"1\" class=\"dataframe\">\n",
       "  <thead>\n",
       "    <tr style=\"text-align: right;\">\n",
       "      <th></th>\n",
       "      <th>id</th>\n",
       "      <th>judgements</th>\n",
       "      <th>mean_</th>\n",
       "      <th>class_</th>\n",
       "    </tr>\n",
       "  </thead>\n",
       "  <tbody>\n",
       "    <tr>\n",
       "      <th>88</th>\n",
       "      <td>858254593481990145</td>\n",
       "      <td>[0.6666666666, 0.6666666666, 0.6666666666, 0.3...</td>\n",
       "      <td>0.466667</td>\n",
       "      <td>clickbait</td>\n",
       "    </tr>\n",
       "    <tr>\n",
       "      <th>127</th>\n",
       "      <td>858122416312209408</td>\n",
       "      <td>[0.6666666666, 0.6666666666, 0.0, 0.0, 0.66666...</td>\n",
       "      <td>0.400000</td>\n",
       "      <td>clickbait</td>\n",
       "    </tr>\n",
       "  </tbody>\n",
       "</table>\n",
       "</div>"
      ],
      "text/plain": [
       "                     id                                         judgements  \\\n",
       "88   858254593481990145  [0.6666666666, 0.6666666666, 0.6666666666, 0.3...   \n",
       "127  858122416312209408  [0.6666666666, 0.6666666666, 0.0, 0.0, 0.66666...   \n",
       "\n",
       "        mean_     class_  \n",
       "88   0.466667  clickbait  \n",
       "127  0.400000  clickbait  "
      ]
     },
     "execution_count": 48,
     "metadata": {},
     "output_type": "execute_result"
    }
   ],
   "source": [
    "webis_df[(webis_df.class_ == 'clickbait') & (webis_df.mean_ < 0.5)].head(2)"
   ]
  },
  {
   "cell_type": "markdown",
   "metadata": {},
   "source": [
    "Ok, so they definitely did not take the mean between all of the voters, they took the median or the mode and ued that as ground truth. Let's look at the variance in the clickbait votes versus the variance in the non-clickbait votes. My hypothesis is that one class will have a higher variance than the other. I then want to look ath the highest variance examples from each class and make a judgement call on whether or not to exclude them"
   ]
  },
  {
   "cell_type": "code",
   "execution_count": 57,
   "metadata": {},
   "outputs": [
    {
     "data": {
      "text/plain": [
       "count    19538.000000\n",
       "mean         0.241240\n",
       "std          0.122331\n",
       "min          0.000000\n",
       "25%          0.163299\n",
       "50%          0.266667\n",
       "75%          0.339935\n",
       "max          0.489898\n",
       "Name: std_, dtype: float64"
      ]
     },
     "execution_count": 57,
     "metadata": {},
     "output_type": "execute_result"
    }
   ],
   "source": [
    "# Test if I can simply use numpy to pull out the std axis 1 \n",
    "def get_std(list_):\n",
    "    return np.std(list_)\n",
    "\n",
    "\n",
    "webis_df['std_'] = webis_df.judgements.apply(get_std)\n",
    "webis_df['std_'].describe()"
   ]
  },
  {
   "cell_type": "markdown",
   "metadata": {},
   "source": [
    "That is a lot of variation in the std! considering the scale is only 0-1, the findding that some of the headlines had a std of 0.5 is surprising. Now, I will import the the text files and join them on to this data, sort values by std and visually inspect the headlines to see how I personally would classify them. "
   ]
  },
  {
   "cell_type": "code",
   "execution_count": 66,
   "metadata": {},
   "outputs": [
    {
     "data": {
      "text/plain": [
       "dict_keys(['postMedia', 'postText', 'id', 'targetCaptions', 'targetParagraphs', 'targetTitle', 'postTimestamp', 'targetKeywords', 'targetDescription'])"
      ]
     },
     "execution_count": 66,
     "metadata": {},
     "output_type": "execute_result"
    }
   ],
   "source": [
    "dataset3[1].keys()"
   ]
  },
  {
   "cell_type": "code",
   "execution_count": 69,
   "metadata": {},
   "outputs": [],
   "source": [
    "def get_text(json_list):\n",
    "    tuples_ = []\n",
    "    for json_ in json_list:\n",
    "        id_ = json_['id']\n",
    "        title = json_['targetTitle']\n",
    "        tuples_.append((id_, title))\n",
    "    return pd.DataFrame(tuples_, columns = ['id', 'title'])\n",
    "\n",
    "\n",
    "\n",
    "df = get_text(dataset3)\n",
    "\n",
    "\n",
    "fulldf = df.merge(webis_df)"
   ]
  },
  {
   "cell_type": "code",
   "execution_count": 100,
   "metadata": {},
   "outputs": [
    {
     "data": {
      "text/html": [
       "<div>\n",
       "<style scoped>\n",
       "    .dataframe tbody tr th:only-of-type {\n",
       "        vertical-align: middle;\n",
       "    }\n",
       "\n",
       "    .dataframe tbody tr th {\n",
       "        vertical-align: top;\n",
       "    }\n",
       "\n",
       "    .dataframe thead th {\n",
       "        text-align: right;\n",
       "    }\n",
       "</style>\n",
       "<table border=\"1\" class=\"dataframe\">\n",
       "  <thead>\n",
       "    <tr style=\"text-align: right;\">\n",
       "      <th></th>\n",
       "      <th>id</th>\n",
       "      <th>title</th>\n",
       "      <th>judgements</th>\n",
       "      <th>mean_</th>\n",
       "      <th>class_</th>\n",
       "      <th>std_</th>\n",
       "    </tr>\n",
       "  </thead>\n",
       "  <tbody>\n",
       "    <tr>\n",
       "      <th>0</th>\n",
       "      <td>858462320779026433</td>\n",
       "      <td>‘Inexcusable’ failures in UK’s response to mod...</td>\n",
       "      <td>[0.3333333333, 0.0, 0.3333333333, 0.0, 0.0]</td>\n",
       "      <td>0.133333</td>\n",
       "      <td>no-clickbait</td>\n",
       "      <td>0.163299</td>\n",
       "    </tr>\n",
       "    <tr>\n",
       "      <th>1</th>\n",
       "      <td>858421020331560960</td>\n",
       "      <td>Donald Trump Appoints Pro-Life Advocate as Ass...</td>\n",
       "      <td>[1.0, 1.0, 1.0, 1.0, 1.0]</td>\n",
       "      <td>1.000000</td>\n",
       "      <td>clickbait</td>\n",
       "      <td>0.000000</td>\n",
       "    </tr>\n",
       "    <tr>\n",
       "      <th>2</th>\n",
       "      <td>858368123753435136</td>\n",
       "      <td>The ‘forgotten’ Trump roast: Relive his brutal...</td>\n",
       "      <td>[0.3333333333, 1.0, 0.3333333333, 0.0, 0.66666...</td>\n",
       "      <td>0.466667</td>\n",
       "      <td>no-clickbait</td>\n",
       "      <td>0.339935</td>\n",
       "    </tr>\n",
       "    <tr>\n",
       "      <th>3</th>\n",
       "      <td>858323428260139008</td>\n",
       "      <td>Meet The Happiest Dog In The World, Maru The H...</td>\n",
       "      <td>[1.0, 0.6666666666, 1.0, 1.0, 1.0]</td>\n",
       "      <td>0.933333</td>\n",
       "      <td>clickbait</td>\n",
       "      <td>0.133333</td>\n",
       "    </tr>\n",
       "    <tr>\n",
       "      <th>4</th>\n",
       "      <td>858283602626347008</td>\n",
       "      <td>Tokyo's subway is shut down amid fears over an...</td>\n",
       "      <td>[0.0, 0.0, 0.0, 0.0, 0.0]</td>\n",
       "      <td>0.000000</td>\n",
       "      <td>no-clickbait</td>\n",
       "      <td>0.000000</td>\n",
       "    </tr>\n",
       "    <tr>\n",
       "      <th>...</th>\n",
       "      <td>...</td>\n",
       "      <td>...</td>\n",
       "      <td>...</td>\n",
       "      <td>...</td>\n",
       "      <td>...</td>\n",
       "      <td>...</td>\n",
       "    </tr>\n",
       "    <tr>\n",
       "      <th>19533</th>\n",
       "      <td>804250183642976256</td>\n",
       "      <td>NBC News Video See Brazil Soccer Team, Pilot’s...</td>\n",
       "      <td>[0.3333333333, 0.0, 1.0, 0.6666666666, 0.0]</td>\n",
       "      <td>0.400000</td>\n",
       "      <td>no-clickbait</td>\n",
       "      <td>0.388730</td>\n",
       "    </tr>\n",
       "    <tr>\n",
       "      <th>19534</th>\n",
       "      <td>804156272086020096</td>\n",
       "      <td>Politico Scoop: Eric Trump Killed Two Deer</td>\n",
       "      <td>[1.0, 1.0, 1.0, 1.0, 0.0]</td>\n",
       "      <td>0.800000</td>\n",
       "      <td>clickbait</td>\n",
       "      <td>0.400000</td>\n",
       "    </tr>\n",
       "    <tr>\n",
       "      <th>19535</th>\n",
       "      <td>804149798651588608</td>\n",
       "      <td>Frenchs Forest high school may relocate to mak...</td>\n",
       "      <td>[0.0, 0.0, 0.0, 0.0, 0.0]</td>\n",
       "      <td>0.000000</td>\n",
       "      <td>no-clickbait</td>\n",
       "      <td>0.000000</td>\n",
       "    </tr>\n",
       "    <tr>\n",
       "      <th>19536</th>\n",
       "      <td>804134698729385984</td>\n",
       "      <td>Los Angeles Rams Jeff Fisher May Think Danny W...</td>\n",
       "      <td>[0.0, 0.0, 0.0, 0.0, 0.6666666666]</td>\n",
       "      <td>0.133333</td>\n",
       "      <td>no-clickbait</td>\n",
       "      <td>0.266667</td>\n",
       "    </tr>\n",
       "    <tr>\n",
       "      <th>19537</th>\n",
       "      <td>804126501117435904</td>\n",
       "      <td>Seattle Seahawks Richard Sherman Says 'Karma' ...</td>\n",
       "      <td>[0.0, 0.6666666666, 0.0, 0.0, 0.0]</td>\n",
       "      <td>0.133333</td>\n",
       "      <td>no-clickbait</td>\n",
       "      <td>0.266667</td>\n",
       "    </tr>\n",
       "  </tbody>\n",
       "</table>\n",
       "<p>19538 rows × 6 columns</p>\n",
       "</div>"
      ],
      "text/plain": [
       "                       id                                              title  \\\n",
       "0      858462320779026433  ‘Inexcusable’ failures in UK’s response to mod...   \n",
       "1      858421020331560960  Donald Trump Appoints Pro-Life Advocate as Ass...   \n",
       "2      858368123753435136  The ‘forgotten’ Trump roast: Relive his brutal...   \n",
       "3      858323428260139008  Meet The Happiest Dog In The World, Maru The H...   \n",
       "4      858283602626347008  Tokyo's subway is shut down amid fears over an...   \n",
       "...                   ...                                                ...   \n",
       "19533  804250183642976256  NBC News Video See Brazil Soccer Team, Pilot’s...   \n",
       "19534  804156272086020096         Politico Scoop: Eric Trump Killed Two Deer   \n",
       "19535  804149798651588608  Frenchs Forest high school may relocate to mak...   \n",
       "19536  804134698729385984  Los Angeles Rams Jeff Fisher May Think Danny W...   \n",
       "19537  804126501117435904  Seattle Seahawks Richard Sherman Says 'Karma' ...   \n",
       "\n",
       "                                              judgements     mean_  \\\n",
       "0            [0.3333333333, 0.0, 0.3333333333, 0.0, 0.0]  0.133333   \n",
       "1                              [1.0, 1.0, 1.0, 1.0, 1.0]  1.000000   \n",
       "2      [0.3333333333, 1.0, 0.3333333333, 0.0, 0.66666...  0.466667   \n",
       "3                     [1.0, 0.6666666666, 1.0, 1.0, 1.0]  0.933333   \n",
       "4                              [0.0, 0.0, 0.0, 0.0, 0.0]  0.000000   \n",
       "...                                                  ...       ...   \n",
       "19533        [0.3333333333, 0.0, 1.0, 0.6666666666, 0.0]  0.400000   \n",
       "19534                          [1.0, 1.0, 1.0, 1.0, 0.0]  0.800000   \n",
       "19535                          [0.0, 0.0, 0.0, 0.0, 0.0]  0.000000   \n",
       "19536                 [0.0, 0.0, 0.0, 0.0, 0.6666666666]  0.133333   \n",
       "19537                 [0.0, 0.6666666666, 0.0, 0.0, 0.0]  0.133333   \n",
       "\n",
       "             class_      std_  \n",
       "0      no-clickbait  0.163299  \n",
       "1         clickbait  0.000000  \n",
       "2      no-clickbait  0.339935  \n",
       "3         clickbait  0.133333  \n",
       "4      no-clickbait  0.000000  \n",
       "...             ...       ...  \n",
       "19533  no-clickbait  0.388730  \n",
       "19534     clickbait  0.400000  \n",
       "19535  no-clickbait  0.000000  \n",
       "19536  no-clickbait  0.266667  \n",
       "19537  no-clickbait  0.266667  \n",
       "\n",
       "[19538 rows x 6 columns]"
      ]
     },
     "execution_count": 100,
     "metadata": {},
     "output_type": "execute_result"
    }
   ],
   "source": [
    "fulldf"
   ]
  },
  {
   "cell_type": "code",
   "execution_count": 113,
   "metadata": {},
   "outputs": [
    {
     "data": {
      "text/plain": [
       "'There was a big difference in the way Trump signed his new travel ban'"
      ]
     },
     "execution_count": 113,
     "metadata": {},
     "output_type": "execute_result"
    }
   ],
   "source": [
    "fulldf[fulldf.class_ == 'no-clickbait'].sort_values('std_', ascending= False).title.iloc[3]"
   ]
  },
  {
   "cell_type": "markdown",
   "metadata": {},
   "source": [
    "## This analysis didn't yeild any additional information apart from the fact that this dataset is labelled poorly.\n",
    "\n",
    "It seems like this data set included a lot of extra information about the post, media, descriptions and key words. but from the actual title alone, it is really difficult to determine which title are click and which are not. \n",
    "\n",
    "Let's a look at the mean vote between classes"
   ]
  },
  {
   "cell_type": "code",
   "execution_count": 116,
   "metadata": {},
   "outputs": [
    {
     "data": {
      "image/png": "[encoded data removed]",
      "text/plain": [
       "<Figure size 432x288 with 1 Axes>"
      ]
     },
     "metadata": {
      "needs_background": "light"
     },
     "output_type": "display_data"
    }
   ],
   "source": [
    "fulldf.groupby(['class_']).mean_.mean().plot(kind='bar');"
   ]
  },
  {
   "cell_type": "markdown",
   "metadata": {},
   "source": [
    "There is definitely a class difference here. I will filter both classes out such that no "
   ]
  },
  {
   "cell_type": "code",
   "execution_count": 129,
   "metadata": {},
   "outputs": [
    {
     "data": {
      "text/plain": [
       "0.13660456249240568"
      ]
     },
     "execution_count": 129,
     "metadata": {},
     "output_type": "execute_result"
    }
   ],
   "source": [
    "fulldf[(fulldf.class_ == 'no-clickbait') & (fulldf.mean_ < 0.3)].mean_.mean()"
   ]
  },
  {
   "cell_type": "code",
   "execution_count": 130,
   "metadata": {},
   "outputs": [
    {
     "data": {
      "text/plain": [
       "count    4761.000000\n",
       "mean        0.689155\n",
       "std         0.146736\n",
       "min         0.400000\n",
       "25%         0.600000\n",
       "50%         0.666667\n",
       "75%         0.800000\n",
       "max         1.000000\n",
       "Name: mean_, dtype: float64"
      ]
     },
     "execution_count": 130,
     "metadata": {},
     "output_type": "execute_result"
    }
   ],
   "source": [
    "fulldf[(fulldf.class_ == 'clickbait')].mean_.describe()"
   ]
  },
  {
   "cell_type": "markdown",
   "metadata": {},
   "source": [
    "Here, we see that only 2000 of the total click bait headlines have a mean clickbaityness of above 0.6. This indicates that there is a further confounder in the labelling of the date whereby th voters were confused about the "
   ]
  },
  {
   "cell_type": "code",
   "execution_count": 125,
   "metadata": {},
   "outputs": [
    {
     "data": {
      "text/html": [
       "<div>\n",
       "<style scoped>\n",
       "    .dataframe tbody tr th:only-of-type {\n",
       "        vertical-align: middle;\n",
       "    }\n",
       "\n",
       "    .dataframe tbody tr th {\n",
       "        vertical-align: top;\n",
       "    }\n",
       "\n",
       "    .dataframe thead th {\n",
       "        text-align: right;\n",
       "    }\n",
       "</style>\n",
       "<table border=\"1\" class=\"dataframe\">\n",
       "  <thead>\n",
       "    <tr style=\"text-align: right;\">\n",
       "      <th></th>\n",
       "      <th>id</th>\n",
       "      <th>title</th>\n",
       "      <th>judgements</th>\n",
       "      <th>mean_</th>\n",
       "      <th>class_</th>\n",
       "      <th>std_</th>\n",
       "    </tr>\n",
       "  </thead>\n",
       "  <tbody>\n",
       "    <tr>\n",
       "      <th>1</th>\n",
       "      <td>858421020331560960</td>\n",
       "      <td>Donald Trump Appoints Pro-Life Advocate as Ass...</td>\n",
       "      <td>[1.0, 1.0, 1.0, 1.0, 1.0]</td>\n",
       "      <td>1.000000</td>\n",
       "      <td>clickbait</td>\n",
       "      <td>0.000000</td>\n",
       "    </tr>\n",
       "    <tr>\n",
       "      <th>3</th>\n",
       "      <td>858323428260139008</td>\n",
       "      <td>Meet The Happiest Dog In The World, Maru The H...</td>\n",
       "      <td>[1.0, 0.6666666666, 1.0, 1.0, 1.0]</td>\n",
       "      <td>0.933333</td>\n",
       "      <td>clickbait</td>\n",
       "      <td>0.133333</td>\n",
       "    </tr>\n",
       "    <tr>\n",
       "      <th>10</th>\n",
       "      <td>858137811039465472</td>\n",
       "      <td>The top 10 best selling comic books of all tim...</td>\n",
       "      <td>[0.6666666666, 1.0, 1.0, 0.0, 1.0]</td>\n",
       "      <td>0.733333</td>\n",
       "      <td>clickbait</td>\n",
       "      <td>0.388730</td>\n",
       "    </tr>\n",
       "    <tr>\n",
       "      <th>11</th>\n",
       "      <td>858070460814184448</td>\n",
       "      <td>B/R Presents: NFL1000 Guide to Day 2 of the 20...</td>\n",
       "      <td>[1.0, 0.6666666666, 0.6666666666, 0.0, 0.66666...</td>\n",
       "      <td>0.600000</td>\n",
       "      <td>clickbait</td>\n",
       "      <td>0.326599</td>\n",
       "    </tr>\n",
       "    <tr>\n",
       "      <th>18</th>\n",
       "      <td>857902233232527360</td>\n",
       "      <td>My 100 Days of Covering President Donald Trump</td>\n",
       "      <td>[0.3333333333, 0.0, 0.6666666666, 0.6666666666...</td>\n",
       "      <td>0.533333</td>\n",
       "      <td>clickbait</td>\n",
       "      <td>0.339935</td>\n",
       "    </tr>\n",
       "    <tr>\n",
       "      <th>...</th>\n",
       "      <td>...</td>\n",
       "      <td>...</td>\n",
       "      <td>...</td>\n",
       "      <td>...</td>\n",
       "      <td>...</td>\n",
       "      <td>...</td>\n",
       "    </tr>\n",
       "    <tr>\n",
       "      <th>19518</th>\n",
       "      <td>804543366516080641</td>\n",
       "      <td>CenturyLinkVoice: New Product Launch: Testing ...</td>\n",
       "      <td>[0.6666666666, 0.6666666666, 0.6666666666, 0.0...</td>\n",
       "      <td>0.400000</td>\n",
       "      <td>clickbait</td>\n",
       "      <td>0.326599</td>\n",
       "    </tr>\n",
       "    <tr>\n",
       "      <th>19526</th>\n",
       "      <td>804423942442192896</td>\n",
       "      <td>Recalled Newsweek ‘Madam President’ Clinton is...</td>\n",
       "      <td>[0.0, 1.0, 1.0, 1.0, 0.3333333333]</td>\n",
       "      <td>0.666667</td>\n",
       "      <td>clickbait</td>\n",
       "      <td>0.421637</td>\n",
       "    </tr>\n",
       "    <tr>\n",
       "      <th>19529</th>\n",
       "      <td>804356811692408838</td>\n",
       "      <td>18 Documentaries That Will Leave You With A Sm...</td>\n",
       "      <td>[1.0, 0.0, 0.6666666666, 0.3333333333, 0.66666...</td>\n",
       "      <td>0.533333</td>\n",
       "      <td>clickbait</td>\n",
       "      <td>0.339935</td>\n",
       "    </tr>\n",
       "    <tr>\n",
       "      <th>19532</th>\n",
       "      <td>804272080246013954</td>\n",
       "      <td>12 Things You Realize At The End Of A Relation...</td>\n",
       "      <td>[0.6666666666, 1.0, 1.0, 1.0, 0.3333333333]</td>\n",
       "      <td>0.800000</td>\n",
       "      <td>clickbait</td>\n",
       "      <td>0.266667</td>\n",
       "    </tr>\n",
       "    <tr>\n",
       "      <th>19534</th>\n",
       "      <td>804156272086020096</td>\n",
       "      <td>Politico Scoop: Eric Trump Killed Two Deer</td>\n",
       "      <td>[1.0, 1.0, 1.0, 1.0, 0.0]</td>\n",
       "      <td>0.800000</td>\n",
       "      <td>clickbait</td>\n",
       "      <td>0.400000</td>\n",
       "    </tr>\n",
       "  </tbody>\n",
       "</table>\n",
       "<p>4761 rows × 6 columns</p>\n",
       "</div>"
      ],
      "text/plain": [
       "                       id                                              title  \\\n",
       "1      858421020331560960  Donald Trump Appoints Pro-Life Advocate as Ass...   \n",
       "3      858323428260139008  Meet The Happiest Dog In The World, Maru The H...   \n",
       "10     858137811039465472  The top 10 best selling comic books of all tim...   \n",
       "11     858070460814184448  B/R Presents: NFL1000 Guide to Day 2 of the 20...   \n",
       "18     857902233232527360     My 100 Days of Covering President Donald Trump   \n",
       "...                   ...                                                ...   \n",
       "19518  804543366516080641  CenturyLinkVoice: New Product Launch: Testing ...   \n",
       "19526  804423942442192896  Recalled Newsweek ‘Madam President’ Clinton is...   \n",
       "19529  804356811692408838  18 Documentaries That Will Leave You With A Sm...   \n",
       "19532  804272080246013954  12 Things You Realize At The End Of A Relation...   \n",
       "19534  804156272086020096         Politico Scoop: Eric Trump Killed Two Deer   \n",
       "\n",
       "                                              judgements     mean_     class_  \\\n",
       "1                              [1.0, 1.0, 1.0, 1.0, 1.0]  1.000000  clickbait   \n",
       "3                     [1.0, 0.6666666666, 1.0, 1.0, 1.0]  0.933333  clickbait   \n",
       "10                    [0.6666666666, 1.0, 1.0, 0.0, 1.0]  0.733333  clickbait   \n",
       "11     [1.0, 0.6666666666, 0.6666666666, 0.0, 0.66666...  0.600000  clickbait   \n",
       "18     [0.3333333333, 0.0, 0.6666666666, 0.6666666666...  0.533333  clickbait   \n",
       "...                                                  ...       ...        ...   \n",
       "19518  [0.6666666666, 0.6666666666, 0.6666666666, 0.0...  0.400000  clickbait   \n",
       "19526                 [0.0, 1.0, 1.0, 1.0, 0.3333333333]  0.666667  clickbait   \n",
       "19529  [1.0, 0.0, 0.6666666666, 0.3333333333, 0.66666...  0.533333  clickbait   \n",
       "19532        [0.6666666666, 1.0, 1.0, 1.0, 0.3333333333]  0.800000  clickbait   \n",
       "19534                          [1.0, 1.0, 1.0, 1.0, 0.0]  0.800000  clickbait   \n",
       "\n",
       "           std_  \n",
       "1      0.000000  \n",
       "3      0.133333  \n",
       "10     0.388730  \n",
       "11     0.326599  \n",
       "18     0.339935  \n",
       "...         ...  \n",
       "19518  0.326599  \n",
       "19526  0.421637  \n",
       "19529  0.339935  \n",
       "19532  0.266667  \n",
       "19534  0.400000  \n",
       "\n",
       "[4761 rows x 6 columns]"
      ]
     },
     "execution_count": 125,
     "metadata": {},
     "output_type": "execute_result"
    }
   ],
   "source": [
    "fulldf[(fulldf.class_ == 'clickbait')]"
   ]
  },
  {
   "cell_type": "markdown",
   "metadata": {},
   "source": [
    "# New Labelling Technique: Soft Voting\n",
    "\n",
    "Rather than taking the mode of the votes, I will simply use the mean. But first, I will drop any input values with a standard deviation of votes of greater than the 75 quartile. This will hopefully removes some of the ambiguous values. \n",
    "\n",
    "Then, I will use a decision boundary of 0.6, rather than 0.5. This is to increase the precision of the model. I don't want to include bordline clickbait headlines, I only want to look at the the most clickbatey headlines."
   ]
  },
  {
   "cell_type": "code",
   "execution_count": null,
   "metadata": {},
   "outputs": [],
   "source": [
    "# filter for "
   ]
  }
 ],
 "metadata": {
  "kernelspec": {
   "display_name": "Python 3",
   "language": "python",
   "name": "python3"
  },
  "language_info": {
   "codemirror_mode": {
    "name": "ipython",
    "version": 3
   },
   "file_extension": ".py",
   "mimetype": "text/x-python",
   "name": "python",
   "nbconvert_exporter": "python",
   "pygments_lexer": "ipython3",
   "version": "3.8.5"
  }
 },
 "nbformat": 4,
 "nbformat_minor": 4
}
